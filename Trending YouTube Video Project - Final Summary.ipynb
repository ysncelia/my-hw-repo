{
 "cells": [
  {
   "cell_type": "markdown",
   "metadata": {},
   "source": [
    "# Final Project Summary\n",
    "\n",
    "Due to image showing diability for the images uploaded from local laptop, the below is just summary description but not plot images. Please refer to Final Part 1 and Final Part 2 for details and plots."
   ]
  },
  {
   "cell_type": "markdown",
   "metadata": {},
   "source": [
    "### Part 1 - Intro: Problem Statement/ Specific Aim for this project"
   ]
  },
  {
   "cell_type": "markdown",
   "metadata": {},
   "source": [
    "With data collected from the 200 listed trending YouTube videos every day in two countries, I target learning features and comments of trending videos to answer the below questions:\n",
    "  - which dynamic of trending video features look like? \n",
    "  - which categories, channels or videos are most trending? \n",
    "  - Are trending video features different between U.S and U.K?\n",
    "  - whether video categories can be predicted based on video comments? "
   ]
  },
  {
   "cell_type": "markdown",
   "metadata": {},
   "source": [
    "### Part 2 - Dataset:  Data preprocessing and Description"
   ]
  },
  {
   "cell_type": "markdown",
   "metadata": {},
   "source": [
    "#### 2.1. Data Loading and Joining"
   ]
  },
  {
   "cell_type": "markdown",
   "metadata": {},
   "source": [
    "Data was loaded from three files for each country - video data, category data and comment data. \n",
    "\n",
    "1) Video Data: csv file for each country; total 26,792 records of  3,949 trending videos during 2008-2018   \n",
    "\n",
    "2) Video and Video Category List : json file;  16 video categories\n",
    "\n",
    "3) Video comment:  .csv file; 886,998 comments from 15,984 videos during Jan.2017 - Sep.2017\n",
    "\n",
    "Thee data tables were joined into two tables based on category IDs and video IDs - Video data table and Comment table\n"
   ]
  },
  {
   "cell_type": "markdown",
   "metadata": {},
   "source": [
    "#### 2.2. Video data Table Preprocessing"
   ]
  },
  {
   "cell_type": "markdown",
   "metadata": {},
   "source": [
    "1) Normalizing Timestamps of Publish date and Trending date fields\n",
    "\n",
    "2) Correcting Data types to reflect actual data fields\n",
    "\n",
    "3) Dropping video records that were removed or disabled with comments or ratings \n",
    "\n",
    "4) Dropping duplicated records "
   ]
  },
  {
   "cell_type": "markdown",
   "metadata": {},
   "source": [
    "#### 2.3. Video data Table Preprocessing"
   ]
  },
  {
   "cell_type": "markdown",
   "metadata": {},
   "source": [
    "1) Removing Urls\n",
    "\n",
    "2) Removing non-ASCII characters and emoji images\n",
    "\n",
    "3) Replacing consecutive repeated characters for three times\n",
    "\n",
    "4) Changing shorcuts to full words, replace remains of unwanted characters (like “‘s” to “is”, “‘ll” to “will”, “‘d” to ‘would’, “‘m” to ‘am’)\n",
    "\n",
    "5) orrecting English word spelling (not applied due to processing time)"
   ]
  },
  {
   "cell_type": "markdown",
   "metadata": {},
   "source": [
    "#### 2.4. Cleaned Data Description"
   ]
  },
  {
   "cell_type": "markdown",
   "metadata": {},
   "source": [
    "Video Data Table"
   ]
  },
  {
   "cell_type": "markdown",
   "metadata": {},
   "source": [
    "Variable | Description | Type\n",
    "---| ---| ---\n",
    "trending_date | the date the video was collected, YY-MM-DD | timestamps/continuous \n",
    "publish_date | the date at which the video was published on YouTube, YY-MM-DD | timestamps/continuous\n",
    "publish_time | the time at which the video was published on YouTube, HH-MM-SS | timestamps/continuous \n",
    "publish_datetime | the date at which the video was published on YouTube, YY-MM-DD HH-MM-SS | timestamps/continuous\n",
    "video_id| video id | categorical/string\n",
    "category_id | category id | categorical/string\n",
    "video_title | video title | categorical/string\n",
    "channel_title | channel title | categorical/string\n",
    "category | video category | categorical/string\n",
    "country | data collected from U.S. or U.K. | categorical/string\n",
    "thumbnail_link | video images | string\n",
    "description | video description | string\n",
    "tags | separated by [|] character [none] means no tags | string\n",
    "views | views | integer\n",
    "likes | likes | integer\n",
    "dislikes | dislikes | integer\n",
    "comment_count | comment counts | integer\n",
    "\n",
    "\n"
   ]
  },
  {
   "cell_type": "markdown",
   "metadata": {},
   "source": [
    "Comment Data Table"
   ]
  },
  {
   "cell_type": "markdown",
   "metadata": {},
   "source": [
    "Variable | Description | Type\n",
    "---| ---| ---\n",
    "video_id| video id | categorical/string\n",
    "comment_text | video comments | categorical/string\n",
    "category | video category | categorical/string\n",
    "likes | comment likes | integer\n",
    "replies | comment replies | integer"
   ]
  },
  {
   "cell_type": "markdown",
   "metadata": {},
   "source": [
    "### Part 3 - Data Exploration and Basic Analysis"
   ]
  },
  {
   "cell_type": "markdown",
   "metadata": {},
   "source": [
    "This section focuses on three dimensions of trending videos - video category, video channel and video title by analyzing four metrics - Views, Likes, Dislikes and Comments that in general measure video popularity (number of views), audience overall sentiment(number of likes and dislikes) and audience engagement (number of comments). We will test correlation among these four metrics."
   ]
  },
  {
   "cell_type": "markdown",
   "metadata": {},
   "source": [
    "#### Findings:"
   ]
  },
  {
   "cell_type": "markdown",
   "metadata": {},
   "source": [
    "1) Views and Likes showed strong positive correlation. Videos with more views were more likely to have more likes. \n",
    "\n",
    "2) It is interesting to see that dislikes had low positive correlation with views but high correlation with comments. The correlation score between Dislikes and Comments was higher than the score between likes and comments. \n",
    "\n",
    "3) There was low correlation between views and comments. \n",
    "\n",
    "4) When breaking down features by country segment, the correlation looks consistent between US and UK. \n",
    "\n",
    "5) \"Entertainment\" and \"Music\" took the lead in the number of total trending videos, while \"Nonprofits & Activism\" and \"Shows\" had the least number of trending videos in our dataset.\n",
    "\n",
    "6) Music and Entertainment videos drew most of eyeballs.\n",
    "\n",
    "7) \"Nonprofits & Activism\" category had the highest likeness rate and the lowest dislikeness rate though it reached the least views. \n",
    "\n",
    "8) \"Sports\" showed relatively low rates of metrics that represents a low level of engagement. Based on empirical evidents it could be because peopel prefer watching live sports, engaging discussions as games went on and getting up_to_the_minute scores. \n",
    "\n",
    "9) News & Politics videos delivered a high rate of dislike % and a low rate of like% though views on videos in this category were not much. A possible of explanation is that in this category topics are usually controversial and people easily have strong opinions and pre-determined dislikes no matter what video content is.\n",
    "\n",
    "10) Top trending videos are mainly Entertainment and Music videos (please see final part 1).\n",
    "\n",
    "11) UK audience showed higher adherence to trending videos and US audience showed a faster viewing turnover. Maximum amount of days being in trend for US audience was 6 days and for UK it was 10 days.\n",
    "\n",
    "12) In comments of trending videos, the most freqent used emoji emotions are smiling face with tears of joy and with heart eyes. The two kept the top in U.S only comments and U.K only comments. "
   ]
  },
  {
   "cell_type": "markdown",
   "metadata": {},
   "source": [
    "### Part 4-  Predicting video category by video comments"
   ]
  },
  {
   "cell_type": "markdown",
   "metadata": {},
   "source": [
    "Five video categories (Music, News & Politics, Sports, Nonprofits & Activism, Education) were selected to be target variables. 218,364 cleaned comments were analyzed and converted to matrix as predictors. \n"
   ]
  },
  {
   "cell_type": "markdown",
   "metadata": {},
   "source": [
    "#### 4.1. Feature Extraction "
   ]
  },
  {
   "cell_type": "markdown",
   "metadata": {},
   "source": [
    "CountVectorizer and TfidfVectorizer were applied to convert 218,364 comments to a (218,364 x 1442893) matrix with 1,442,893 features. The parameters of vectorizers are stop_words='english' and ngram_range=(1,3). "
   ]
  },
  {
   "cell_type": "markdown",
   "metadata": {},
   "source": [
    "#### 4.2. Dimension Reduction"
   ]
  },
  {
   "cell_type": "markdown",
   "metadata": {},
   "source": [
    "t-Distributed Stochastic Neighbor Embedding (t-SNE) was applied to reduce the number of features. The outcome was that 1,442,893 features were reduced to 2 features. The matrix X (2183641 , 1442893) was reduced to  X (2183641 , 2). "
   ]
  },
  {
   "cell_type": "markdown",
   "metadata": {},
   "source": [
    "#### 4.3. Classifier Estimators"
   ]
  },
  {
   "cell_type": "markdown",
   "metadata": {},
   "source": [
    "Multinomial Naive Bayes, Random Forest, Adaboot Classifier, Gradient Boosting Classifier were ran with CountVectorized X matrix as predictor and cross validation accuracy scores were compared. As a result Multinomial Naive Bayes before dimension reduction generated the highest accuracy score at 73%. "
   ]
  },
  {
   "cell_type": "markdown",
   "metadata": {},
   "source": [
    "### Part 5 - Multinomial Naive Bayes Modeling Results"
   ]
  },
  {
   "cell_type": "markdown",
   "metadata": {},
   "source": [
    "Comment words with high and low log probabilities (coefficients) from the model for each category were listed. Comparing to high freqency words from comments of each category (shown as word clouds in part 2), the predicted categoried words look consistent. "
   ]
  },
  {
   "cell_type": "markdown",
   "metadata": {},
   "source": [
    "1) Education\n",
    "\n",
    "(+) interesting, life, cool, time, want, really, love, great, videos, simulation, think, good, know, live, make, don, people, just, like, video\n",
    "\n",
    "(-) like stations playing, passengers clean, passengers burnt hair, passengers burnt, passengers boarding just, passengers boarding, passengers best interests, passengers best, passengers allergy pets, passengers allergy, passenger van small, passenger van, passenger second woman, passenger second, passenger seats airplane, passenger seats, passengers clean plane, passengers complaints, passengers complaints uber, passengers distraction\n",
    "\n",
    "2) Music                 \n",
    "\n",
    "(+) new, yes, perfect, nice, awesome, great, voice, just, omg, best, music, wow, love song, video, like, good, beautiful, amazing, song, love\n",
    "\n",
    "(-) 𝟝𝟘𝟘 𝕡𝕣𝕠𝕞𝕠 𝕔𝕠𝕕𝕖𝕤, make makes atoms, make making, make making bad, make manganese, make manganese metal, make market, make market drain, make mars, make mars want, make mascara, make mascara clear, vwaljxuicae thanks, vwaljxuicae, make makes, vw group taxes, make mason, make mason lol, make massive, make massive plank\n",
    "\n",
    "3) News & Politics\n",
    "\n",
    "(+) think, fake news, fuck, white, man, know, god, good, guy, video, did, trending, lol, don, fake, news, just, trump, like, people\n",
    "\n",
    "(-) like stations playing, milea, milea ahahaha, wanna need, wanna muppet like, wanna muppet, milehighcity, milei, milennials, milennials screeching, milennials screeching hippe, wanna multi talented, miles 12, miles 12 874, miles 14, miles 14 484, miles 200, miles 200 seat, miles ask, miles ahead women\n",
    "\n",
    "4) Nonprofits & Activism  \n",
    "\n",
    "(+) bless aarp, bless aarp series, thorn, terrif, hatred, belt, bless, bless don, god bless don, combo, black belt, belt hatred, black belt hatred, combo love, aarp, rip, great, don, rip don, snoop\n",
    "\n",
    "(-) 00, populate seats, populate earth stop, populate earth, populate continent, populate, populars regular public, populars regular, populars, populate seats program, popularmmos, popularized hairstyle, popularized barbie doll, popularized barbie, popularized academic shoshana, popularized academic, popularized, popularize, popularity tons grammys, popularized hairstyle culture\n",
    "\n",
    "5) Sports                \n",
    "\n",
    "(+) dude, amazing, fuck, great, guy, awesome, best, nice, man, team, just, game, video, lol, love, shield, nile, good, like, trending\n",
    "                      \n",
    "(-) like stations playing, perfecta escucharlo, perfecta en especial, perfecta en español, perfecta en, perfecta díganme si, perfecta díganme, perfecta chris sos, perfecta escucharlo cantarla, perfecta chris, perfect yeah perfect, perfect yeah, perfect xx, perfect wwe battleground, perfect wwe, perfect wu, perfect world sound, perfecta, perfecta esta, perfecta esta canción"
   ]
  },
  {
   "cell_type": "markdown",
   "metadata": {},
   "source": [
    "### Part 6: Data Limitations, Challenges and Next Steps"
   ]
  },
  {
   "cell_type": "markdown",
   "metadata": {},
   "source": [
    "#### 6.1. Data Limitations and Challenges"
   ]
  },
  {
   "cell_type": "markdown",
   "metadata": {},
   "source": [
    "1) This dataset is lack of non-trending video data to identify video popularity factors. \n",
    "\n",
    "2) For this trending dataset, views, likes, dislikes and comments are not enough to measure trending video performance or audience sentiments. Other KPIs include subscribers, shares, video watching time, video time length. Also, no clear sentiment lables are provided for sentiment analysis. \n",
    "\n",
    "3) Data size is huge, especially when using comment words as predictors. Model runing time from my local laptop is more than 5 hours for each model. It limited me to play with default hyper-parameters for each model. "
   ]
  },
  {
   "cell_type": "markdown",
   "metadata": {},
   "source": [
    "#### 6.2. Next Steps"
   ]
  },
  {
   "cell_type": "markdown",
   "metadata": {},
   "source": [
    "1) Time Series Analysis: I am curious on a) how much time passed for a trending video from being published to becoming trending; b) when those videos become trending like which day of week, which time; c) whether there is any difference between videos that was trending for one day and videos that was trending for more than 5 days (a classifier can be built)?\n",
    "\n",
    "2) Current Model Improvement: a) count in non-English language videos; b) correct non-correct spelling words in video comments; c) (advice from John) Since twitter comments have sentiment labels, I might be able to cross-join twitter comment words with youtube comment words to build sentiment labels\n",
    "\n",
    "3) Clustering Analysis: (advice from Nico) clustering trending videos based on provided video data and comment data."
   ]
  }
 ],
 "metadata": {
  "kernelspec": {
   "display_name": "Python 3",
   "language": "python",
   "name": "python3"
  },
  "language_info": {
   "codemirror_mode": {
    "name": "ipython",
    "version": 3
   },
   "file_extension": ".py",
   "mimetype": "text/x-python",
   "name": "python",
   "nbconvert_exporter": "python",
   "pygments_lexer": "ipython3",
   "version": "3.6.3"
  }
 },
 "nbformat": 4,
 "nbformat_minor": 1
}
